{
 "cells": [
  {
   "cell_type": "code",
   "execution_count": 1,
   "id": "a7768077-132d-4cec-8109-14beb7117732",
   "metadata": {},
   "outputs": [],
   "source": [
    "import pandas as pd"
   ]
  },
  {
   "cell_type": "code",
   "execution_count": 2,
   "id": "a2a1130b-6fbf-456e-9b7f-a083ed16f26f",
   "metadata": {},
   "outputs": [],
   "source": [
    "df = pd.read_excel(\"base_de_dados/houses_to_rent.xlsx\")"
   ]
  },
  {
   "cell_type": "code",
   "execution_count": 3,
   "id": "43361c96-8499-4091-9921-d26a07019473",
   "metadata": {},
   "outputs": [],
   "source": [
    "excel_file = pd.ExcelFile(\"base_de_dados/houses_to_rent.xlsx\")"
   ]
  },
  {
   "cell_type": "code",
   "execution_count": 4,
   "id": "d45fbd92-b111-4918-93a0-44ba5c0e2361",
   "metadata": {},
   "outputs": [
    {
     "data": {
      "text/plain": [
       "['Worksheet']"
      ]
     },
     "execution_count": 4,
     "metadata": {},
     "output_type": "execute_result"
    }
   ],
   "source": [
    "excel_file.sheet_names"
   ]
  },
  {
   "cell_type": "code",
   "execution_count": null,
   "id": "549f727e-a65d-4ea1-bdc1-fa8e7816b17c",
   "metadata": {},
   "outputs": [],
   "source": [
    "tab_one = excel_file.parse(\"Worksheet\")"
   ]
  },
  {
   "cell_type": "code",
   "execution_count": null,
   "id": "fb80166a-47d3-4577-8e2e-453b9e312e6f",
   "metadata": {},
   "outputs": [],
   "source": [
    "tab_one.head()"
   ]
  },
  {
   "cell_type": "code",
   "execution_count": null,
   "id": "6a780198-082b-4ae5-8552-8f3d5c7d5108",
   "metadata": {},
   "outputs": [],
   "source": [
    "df.head()"
   ]
  },
  {
   "cell_type": "code",
   "execution_count": null,
   "id": "86cd651c-f9e4-45cf-9bbc-ae111966aeee",
   "metadata": {},
   "outputs": [],
   "source": []
  }
 ],
 "metadata": {
  "kernelspec": {
   "display_name": "Python 3 (ipykernel)",
   "language": "python",
   "name": "python3"
  },
  "language_info": {
   "codemirror_mode": {
    "name": "ipython",
    "version": 3
   },
   "file_extension": ".py",
   "mimetype": "text/x-python",
   "name": "python",
   "nbconvert_exporter": "python",
   "pygments_lexer": "ipython3",
   "version": "3.8.10"
  }
 },
 "nbformat": 4,
 "nbformat_minor": 5
}
