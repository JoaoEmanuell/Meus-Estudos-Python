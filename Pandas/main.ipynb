{
 "cells": [
  {
   "cell_type": "code",
   "execution_count": 1,
   "id": "a7768077-132d-4cec-8109-14beb7117732",
   "metadata": {},
   "outputs": [],
   "source": [
    "import pandas as pd\n",
    "import numpy as np"
   ]
  },
  {
   "cell_type": "code",
   "execution_count": 2,
   "id": "a2a1130b-6fbf-456e-9b7f-a083ed16f26f",
   "metadata": {},
   "outputs": [],
   "source": [
    "df = pd.read_excel(\"base_de_dados/houses_to_rent.xlsx\", index_col = 0)"
   ]
  },
  {
   "cell_type": "code",
   "execution_count": 12,
   "id": "dccb922c-7384-4be9-9997-72e9f385af97",
   "metadata": {},
   "outputs": [
    {
     "data": {
      "text/plain": [
       "city               int64\n",
       "area               int64\n",
       "rooms              int64\n",
       "bathroom           int64\n",
       "parking spaces     int64\n",
       "floor             object\n",
       "animal            object\n",
       "furniture         object\n",
       "hoa               object\n",
       "rent amount       object\n",
       "property tax      object\n",
       "fire insurance    object\n",
       "total             object\n",
       "dtype: object"
      ]
     },
     "execution_count": 12,
     "metadata": {},
     "output_type": "execute_result"
    }
   ],
   "source": [
    "df.dtypes"
   ]
  },
  {
   "cell_type": "code",
   "execution_count": 17,
   "id": "0375d8ca-7766-4df9-82c9-d773e60fff37",
   "metadata": {},
   "outputs": [
    {
     "data": {
      "text/plain": [
       "Index              48640\n",
       "city               48640\n",
       "area               48640\n",
       "rooms              48640\n",
       "bathroom           48640\n",
       "parking spaces     48640\n",
       "floor             253090\n",
       "animal            382616\n",
       "furniture         419272\n",
       "hoa               379216\n",
       "rent amount       389125\n",
       "property tax      374694\n",
       "fire insurance    371753\n",
       "total             389956\n",
       "dtype: int64"
      ]
     },
     "execution_count": 17,
     "metadata": {},
     "output_type": "execute_result"
    }
   ],
   "source": [
    "df.memory_usage(deep = True)"
   ]
  },
  {
   "cell_type": "code",
   "execution_count": 45,
   "id": "aa7a1d32-6232-456c-a330-0b8e5842101a",
   "metadata": {},
   "outputs": [],
   "source": [
    "df_cop = df.copy(deep = True)"
   ]
  },
  {
   "cell_type": "code",
   "execution_count": 54,
   "id": "cec1aee7-01f4-460d-ac03-ee27f89cd10f",
   "metadata": {},
   "outputs": [],
   "source": [
    "df_cop['area'] = df_cop['area'].astype(np.int16)\n",
    "df_cop['rooms'] = df_cop['rooms'].astype(np.int8)\n",
    "df_cop['bathroom'] = df_cop['bathroom'].astype(np.int8)\n",
    "df_cop['parking spaces'] = df_cop['parking spaces'].astype(np.int8)"
   ]
  },
  {
   "cell_type": "code",
   "execution_count": 55,
   "id": "1cea296b-6786-49af-8521-2871f777a401",
   "metadata": {},
   "outputs": [
    {
     "data": {
      "text/html": [
       "<div>\n",
       "<style scoped>\n",
       "    .dataframe tbody tr th:only-of-type {\n",
       "        vertical-align: middle;\n",
       "    }\n",
       "\n",
       "    .dataframe tbody tr th {\n",
       "        vertical-align: top;\n",
       "    }\n",
       "\n",
       "    .dataframe thead th {\n",
       "        text-align: right;\n",
       "    }\n",
       "</style>\n",
       "<table border=\"1\" class=\"dataframe\">\n",
       "  <thead>\n",
       "    <tr style=\"text-align: right;\">\n",
       "      <th></th>\n",
       "      <th>city</th>\n",
       "      <th>area</th>\n",
       "      <th>rooms</th>\n",
       "      <th>bathroom</th>\n",
       "      <th>parking spaces</th>\n",
       "      <th>floor</th>\n",
       "      <th>animal</th>\n",
       "      <th>furniture</th>\n",
       "      <th>hoa</th>\n",
       "      <th>rent amount</th>\n",
       "      <th>property tax</th>\n",
       "      <th>fire insurance</th>\n",
       "      <th>total</th>\n",
       "    </tr>\n",
       "    <tr>\n",
       "      <th>id</th>\n",
       "      <th></th>\n",
       "      <th></th>\n",
       "      <th></th>\n",
       "      <th></th>\n",
       "      <th></th>\n",
       "      <th></th>\n",
       "      <th></th>\n",
       "      <th></th>\n",
       "      <th></th>\n",
       "      <th></th>\n",
       "      <th></th>\n",
       "      <th></th>\n",
       "      <th></th>\n",
       "    </tr>\n",
       "  </thead>\n",
       "  <tbody>\n",
       "    <tr>\n",
       "      <th>0</th>\n",
       "      <td>1</td>\n",
       "      <td>240</td>\n",
       "      <td>3</td>\n",
       "      <td>3</td>\n",
       "      <td>4</td>\n",
       "      <td>-</td>\n",
       "      <td>acept</td>\n",
       "      <td>furnished</td>\n",
       "      <td>R$0</td>\n",
       "      <td>R$8,000</td>\n",
       "      <td>R$1,000</td>\n",
       "      <td>R$121</td>\n",
       "      <td>R$9,121</td>\n",
       "    </tr>\n",
       "    <tr>\n",
       "      <th>1</th>\n",
       "      <td>0</td>\n",
       "      <td>64</td>\n",
       "      <td>2</td>\n",
       "      <td>1</td>\n",
       "      <td>1</td>\n",
       "      <td>10</td>\n",
       "      <td>acept</td>\n",
       "      <td>not furnished</td>\n",
       "      <td>R$540</td>\n",
       "      <td>R$820</td>\n",
       "      <td>R$122</td>\n",
       "      <td>R$11</td>\n",
       "      <td>R$1,493</td>\n",
       "    </tr>\n",
       "    <tr>\n",
       "      <th>2</th>\n",
       "      <td>1</td>\n",
       "      <td>443</td>\n",
       "      <td>5</td>\n",
       "      <td>5</td>\n",
       "      <td>4</td>\n",
       "      <td>3</td>\n",
       "      <td>acept</td>\n",
       "      <td>furnished</td>\n",
       "      <td>R$4,172</td>\n",
       "      <td>R$7,000</td>\n",
       "      <td>R$1,417</td>\n",
       "      <td>R$89</td>\n",
       "      <td>R$12,680</td>\n",
       "    </tr>\n",
       "    <tr>\n",
       "      <th>3</th>\n",
       "      <td>1</td>\n",
       "      <td>73</td>\n",
       "      <td>2</td>\n",
       "      <td>2</td>\n",
       "      <td>1</td>\n",
       "      <td>12</td>\n",
       "      <td>acept</td>\n",
       "      <td>not furnished</td>\n",
       "      <td>R$700</td>\n",
       "      <td>R$1,250</td>\n",
       "      <td>R$150</td>\n",
       "      <td>R$16</td>\n",
       "      <td>R$2,116</td>\n",
       "    </tr>\n",
       "    <tr>\n",
       "      <th>4</th>\n",
       "      <td>1</td>\n",
       "      <td>19</td>\n",
       "      <td>1</td>\n",
       "      <td>1</td>\n",
       "      <td>0</td>\n",
       "      <td>-</td>\n",
       "      <td>not acept</td>\n",
       "      <td>not furnished</td>\n",
       "      <td>R$0</td>\n",
       "      <td>R$1,200</td>\n",
       "      <td>R$41</td>\n",
       "      <td>R$16</td>\n",
       "      <td>R$1,257</td>\n",
       "    </tr>\n",
       "  </tbody>\n",
       "</table>\n",
       "</div>"
      ],
      "text/plain": [
       "    city  area  rooms  bathroom  parking spaces floor     animal  \\\n",
       "id                                                                 \n",
       "0      1   240      3         3               4     -      acept   \n",
       "1      0    64      2         1               1    10      acept   \n",
       "2      1   443      5         5               4     3      acept   \n",
       "3      1    73      2         2               1    12      acept   \n",
       "4      1    19      1         1               0     -  not acept   \n",
       "\n",
       "        furniture      hoa rent amount property tax fire insurance     total  \n",
       "id                                                                            \n",
       "0       furnished      R$0     R$8,000      R$1,000          R$121   R$9,121  \n",
       "1   not furnished    R$540       R$820        R$122           R$11   R$1,493  \n",
       "2       furnished  R$4,172     R$7,000      R$1,417           R$89  R$12,680  \n",
       "3   not furnished    R$700     R$1,250        R$150           R$16   R$2,116  \n",
       "4   not furnished      R$0     R$1,200         R$41           R$16   R$1,257  "
      ]
     },
     "execution_count": 55,
     "metadata": {},
     "output_type": "execute_result"
    }
   ],
   "source": [
    "df_cop.head()"
   ]
  },
  {
   "cell_type": "code",
   "execution_count": 39,
   "id": "f240c0ae-2c2f-4da1-b936-fe46492fd843",
   "metadata": {},
   "outputs": [
    {
     "data": {
      "text/plain": [
       "Index              48640\n",
       "city                6080\n",
       "area               24320\n",
       "rooms               6080\n",
       "bathroom            6080\n",
       "parking spaces      6080\n",
       "floor             253090\n",
       "animal            382616\n",
       "furniture         419272\n",
       "hoa               379216\n",
       "rent amount       389125\n",
       "property tax      374694\n",
       "fire insurance    371753\n",
       "total             389956\n",
       "dtype: int64"
      ]
     },
     "execution_count": 39,
     "metadata": {},
     "output_type": "execute_result"
    }
   ],
   "source": [
    "df_cop.memory_usage(deep = True)"
   ]
  },
  {
   "cell_type": "code",
   "execution_count": 53,
   "id": "8892f885-c2d0-4bbd-a729-87a1adf12ac7",
   "metadata": {},
   "outputs": [
    {
     "data": {
      "text/plain": [
       "city                 2\n",
       "area               435\n",
       "rooms                9\n",
       "bathroom            10\n",
       "parking spaces      10\n",
       "floor               37\n",
       "animal               2\n",
       "furniture            2\n",
       "hoa               1292\n",
       "rent amount       1032\n",
       "property tax      1036\n",
       "fire insurance     190\n",
       "total             4069\n",
       "dtype: int64"
      ]
     },
     "execution_count": 53,
     "metadata": {},
     "output_type": "execute_result"
    }
   ],
   "source": [
    "df_cop.select_dtypes(include = ['object', 'int8', 'int16']).nunique()"
   ]
  },
  {
   "cell_type": "code",
   "execution_count": 56,
   "id": "09d6a2a4-b393-422d-9eca-b0b9a69b9415",
   "metadata": {},
   "outputs": [],
   "source": [
    "df_cop['city'] = df_cop['city'].astype('category')\n",
    "df_cop['animal'] = df_cop['animal'].astype('category')\n",
    "df_cop['furniture'] = df_cop['furniture'].astype('category')"
   ]
  },
  {
   "cell_type": "code",
   "execution_count": 57,
   "id": "9f61d213-2d6a-4479-947e-ab1e74f04da2",
   "metadata": {},
   "outputs": [
    {
     "data": {
      "text/plain": [
       "Index              48640\n",
       "city                6204\n",
       "area               12160\n",
       "rooms               6080\n",
       "bathroom            6080\n",
       "parking spaces      6080\n",
       "floor             253090\n",
       "animal              6316\n",
       "furniture           6324\n",
       "hoa               379216\n",
       "rent amount       389125\n",
       "property tax      374694\n",
       "fire insurance    371753\n",
       "total             389956\n",
       "dtype: int64"
      ]
     },
     "execution_count": 57,
     "metadata": {},
     "output_type": "execute_result"
    }
   ],
   "source": [
    "df_cop.memory_usage(deep = True)"
   ]
  },
  {
   "cell_type": "code",
   "execution_count": 3,
   "id": "c1d6f061-38d9-44ed-847c-ba05ec13beae",
   "metadata": {},
   "outputs": [
    {
     "data": {
      "text/html": [
       "<div>\n",
       "<style scoped>\n",
       "    .dataframe tbody tr th:only-of-type {\n",
       "        vertical-align: middle;\n",
       "    }\n",
       "\n",
       "    .dataframe tbody tr th {\n",
       "        vertical-align: top;\n",
       "    }\n",
       "\n",
       "    .dataframe thead th {\n",
       "        text-align: right;\n",
       "    }\n",
       "</style>\n",
       "<table border=\"1\" class=\"dataframe\">\n",
       "  <thead>\n",
       "    <tr style=\"text-align: right;\">\n",
       "      <th></th>\n",
       "      <th>city</th>\n",
       "      <th>area</th>\n",
       "      <th>rooms</th>\n",
       "      <th>bathroom</th>\n",
       "      <th>parking spaces</th>\n",
       "      <th>floor</th>\n",
       "      <th>animal</th>\n",
       "      <th>furniture</th>\n",
       "      <th>hoa</th>\n",
       "      <th>rent amount</th>\n",
       "      <th>property tax</th>\n",
       "      <th>fire insurance</th>\n",
       "      <th>total</th>\n",
       "    </tr>\n",
       "    <tr>\n",
       "      <th>id</th>\n",
       "      <th></th>\n",
       "      <th></th>\n",
       "      <th></th>\n",
       "      <th></th>\n",
       "      <th></th>\n",
       "      <th></th>\n",
       "      <th></th>\n",
       "      <th></th>\n",
       "      <th></th>\n",
       "      <th></th>\n",
       "      <th></th>\n",
       "      <th></th>\n",
       "      <th></th>\n",
       "    </tr>\n",
       "  </thead>\n",
       "  <tbody>\n",
       "    <tr>\n",
       "      <th>0</th>\n",
       "      <td>1</td>\n",
       "      <td>240</td>\n",
       "      <td>3</td>\n",
       "      <td>3</td>\n",
       "      <td>4</td>\n",
       "      <td>-</td>\n",
       "      <td>acept</td>\n",
       "      <td>furnished</td>\n",
       "      <td>R$0</td>\n",
       "      <td>R$8,000</td>\n",
       "      <td>R$1,000</td>\n",
       "      <td>R$121</td>\n",
       "      <td>R$9,121</td>\n",
       "    </tr>\n",
       "    <tr>\n",
       "      <th>1</th>\n",
       "      <td>0</td>\n",
       "      <td>64</td>\n",
       "      <td>2</td>\n",
       "      <td>1</td>\n",
       "      <td>1</td>\n",
       "      <td>10</td>\n",
       "      <td>acept</td>\n",
       "      <td>not furnished</td>\n",
       "      <td>R$540</td>\n",
       "      <td>R$820</td>\n",
       "      <td>R$122</td>\n",
       "      <td>R$11</td>\n",
       "      <td>R$1,493</td>\n",
       "    </tr>\n",
       "    <tr>\n",
       "      <th>2</th>\n",
       "      <td>1</td>\n",
       "      <td>443</td>\n",
       "      <td>5</td>\n",
       "      <td>5</td>\n",
       "      <td>4</td>\n",
       "      <td>3</td>\n",
       "      <td>acept</td>\n",
       "      <td>furnished</td>\n",
       "      <td>R$4,172</td>\n",
       "      <td>R$7,000</td>\n",
       "      <td>R$1,417</td>\n",
       "      <td>R$89</td>\n",
       "      <td>R$12,680</td>\n",
       "    </tr>\n",
       "    <tr>\n",
       "      <th>3</th>\n",
       "      <td>1</td>\n",
       "      <td>73</td>\n",
       "      <td>2</td>\n",
       "      <td>2</td>\n",
       "      <td>1</td>\n",
       "      <td>12</td>\n",
       "      <td>acept</td>\n",
       "      <td>not furnished</td>\n",
       "      <td>R$700</td>\n",
       "      <td>R$1,250</td>\n",
       "      <td>R$150</td>\n",
       "      <td>R$16</td>\n",
       "      <td>R$2,116</td>\n",
       "    </tr>\n",
       "    <tr>\n",
       "      <th>4</th>\n",
       "      <td>1</td>\n",
       "      <td>19</td>\n",
       "      <td>1</td>\n",
       "      <td>1</td>\n",
       "      <td>0</td>\n",
       "      <td>-</td>\n",
       "      <td>not acept</td>\n",
       "      <td>not furnished</td>\n",
       "      <td>R$0</td>\n",
       "      <td>R$1,200</td>\n",
       "      <td>R$41</td>\n",
       "      <td>R$16</td>\n",
       "      <td>R$1,257</td>\n",
       "    </tr>\n",
       "  </tbody>\n",
       "</table>\n",
       "</div>"
      ],
      "text/plain": [
       "    city  area  rooms  bathroom  parking spaces floor     animal  \\\n",
       "id                                                                 \n",
       "0      1   240      3         3               4     -      acept   \n",
       "1      0    64      2         1               1    10      acept   \n",
       "2      1   443      5         5               4     3      acept   \n",
       "3      1    73      2         2               1    12      acept   \n",
       "4      1    19      1         1               0     -  not acept   \n",
       "\n",
       "        furniture      hoa rent amount property tax fire insurance     total  \n",
       "id                                                                            \n",
       "0       furnished      R$0     R$8,000      R$1,000          R$121   R$9,121  \n",
       "1   not furnished    R$540       R$820        R$122           R$11   R$1,493  \n",
       "2       furnished  R$4,172     R$7,000      R$1,417           R$89  R$12,680  \n",
       "3   not furnished    R$700     R$1,250        R$150           R$16   R$2,116  \n",
       "4   not furnished      R$0     R$1,200         R$41           R$16   R$1,257  "
      ]
     },
     "execution_count": 3,
     "metadata": {},
     "output_type": "execute_result"
    }
   ],
   "source": [
    "df.head()"
   ]
  }
 ],
 "metadata": {
  "kernelspec": {
   "display_name": "Python 3 (ipykernel)",
   "language": "python",
   "name": "python3"
  },
  "language_info": {
   "codemirror_mode": {
    "name": "ipython",
    "version": 3
   },
   "file_extension": ".py",
   "mimetype": "text/x-python",
   "name": "python",
   "nbconvert_exporter": "python",
   "pygments_lexer": "ipython3",
   "version": "3.8.10"
  }
 },
 "nbformat": 4,
 "nbformat_minor": 5
}
